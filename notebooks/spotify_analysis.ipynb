{
 "cells": [
  {
   "cell_type": "markdown",
   "id": "98846747",
   "metadata": {},
   "source": [
    "# Global Music Streaming Listener Preferences 🎵\n",
    "\n",
    "Analyzing Spotify top tracks to explore patterns in audio features, artist popularity, and song characteristics.  "
   ]
  },
  {
   "cell_type": "code",
   "execution_count": 165,
   "id": "10a6af2f",
   "metadata": {},
   "outputs": [
    {
     "data": {
      "text/html": [
       "<div>\n",
       "<style scoped>\n",
       "    .dataframe tbody tr th:only-of-type {\n",
       "        vertical-align: middle;\n",
       "    }\n",
       "\n",
       "    .dataframe tbody tr th {\n",
       "        vertical-align: top;\n",
       "    }\n",
       "\n",
       "    .dataframe thead th {\n",
       "        text-align: right;\n",
       "    }\n",
       "</style>\n",
       "<table border=\"1\" class=\"dataframe\">\n",
       "  <thead>\n",
       "    <tr style=\"text-align: right;\">\n",
       "      <th></th>\n",
       "      <th>User_ID</th>\n",
       "      <th>Age</th>\n",
       "      <th>Country</th>\n",
       "      <th>Streaming Platform</th>\n",
       "      <th>Top Genre</th>\n",
       "      <th>Minutes Streamed Per Day</th>\n",
       "      <th>Number of Songs Liked</th>\n",
       "      <th>Most Played Artist</th>\n",
       "      <th>Subscription Type</th>\n",
       "      <th>Listening Time (Morning/Afternoon/Night)</th>\n",
       "      <th>Discover Weekly Engagement (%)</th>\n",
       "      <th>Repeat Song Rate (%)</th>\n",
       "    </tr>\n",
       "  </thead>\n",
       "  <tbody>\n",
       "    <tr>\n",
       "      <th>0</th>\n",
       "      <td>U1000</td>\n",
       "      <td>34</td>\n",
       "      <td>Japan</td>\n",
       "      <td>Tidal</td>\n",
       "      <td>Reggae</td>\n",
       "      <td>295</td>\n",
       "      <td>138</td>\n",
       "      <td>Adele</td>\n",
       "      <td>Free</td>\n",
       "      <td>Afternoon</td>\n",
       "      <td>47.42</td>\n",
       "      <td>16.74</td>\n",
       "    </tr>\n",
       "    <tr>\n",
       "      <th>1</th>\n",
       "      <td>U1001</td>\n",
       "      <td>24</td>\n",
       "      <td>Germany</td>\n",
       "      <td>Deezer</td>\n",
       "      <td>Country</td>\n",
       "      <td>86</td>\n",
       "      <td>388</td>\n",
       "      <td>Ed Sheeran</td>\n",
       "      <td>Premium</td>\n",
       "      <td>Night</td>\n",
       "      <td>12.06</td>\n",
       "      <td>69.25</td>\n",
       "    </tr>\n",
       "    <tr>\n",
       "      <th>2</th>\n",
       "      <td>U1002</td>\n",
       "      <td>49</td>\n",
       "      <td>Germany</td>\n",
       "      <td>Deezer</td>\n",
       "      <td>Pop</td>\n",
       "      <td>363</td>\n",
       "      <td>368</td>\n",
       "      <td>Post Malone</td>\n",
       "      <td>Premium</td>\n",
       "      <td>Afternoon</td>\n",
       "      <td>47.19</td>\n",
       "      <td>67.38</td>\n",
       "    </tr>\n",
       "    <tr>\n",
       "      <th>3</th>\n",
       "      <td>U1003</td>\n",
       "      <td>55</td>\n",
       "      <td>Australia</td>\n",
       "      <td>YouTube</td>\n",
       "      <td>Reggae</td>\n",
       "      <td>348</td>\n",
       "      <td>349</td>\n",
       "      <td>Dua Lipa</td>\n",
       "      <td>Premium</td>\n",
       "      <td>Morning</td>\n",
       "      <td>31.27</td>\n",
       "      <td>76.51</td>\n",
       "    </tr>\n",
       "    <tr>\n",
       "      <th>4</th>\n",
       "      <td>U1004</td>\n",
       "      <td>13</td>\n",
       "      <td>Germany</td>\n",
       "      <td>Amazon Music</td>\n",
       "      <td>Reggae</td>\n",
       "      <td>30</td>\n",
       "      <td>328</td>\n",
       "      <td>Adele</td>\n",
       "      <td>Free</td>\n",
       "      <td>Night</td>\n",
       "      <td>30.68</td>\n",
       "      <td>43.41</td>\n",
       "    </tr>\n",
       "  </tbody>\n",
       "</table>\n",
       "</div>"
      ],
      "text/plain": [
       "  User_ID  Age    Country Streaming Platform Top Genre  \\\n",
       "0   U1000   34      Japan              Tidal    Reggae   \n",
       "1   U1001   24    Germany             Deezer   Country   \n",
       "2   U1002   49    Germany             Deezer       Pop   \n",
       "3   U1003   55  Australia            YouTube    Reggae   \n",
       "4   U1004   13    Germany       Amazon Music    Reggae   \n",
       "\n",
       "   Minutes Streamed Per Day  Number of Songs Liked Most Played Artist  \\\n",
       "0                       295                    138              Adele   \n",
       "1                        86                    388         Ed Sheeran   \n",
       "2                       363                    368        Post Malone   \n",
       "3                       348                    349           Dua Lipa   \n",
       "4                        30                    328              Adele   \n",
       "\n",
       "  Subscription Type Listening Time (Morning/Afternoon/Night)  \\\n",
       "0              Free                                Afternoon   \n",
       "1           Premium                                    Night   \n",
       "2           Premium                                Afternoon   \n",
       "3           Premium                                  Morning   \n",
       "4              Free                                    Night   \n",
       "\n",
       "   Discover Weekly Engagement (%)  Repeat Song Rate (%)  \n",
       "0                           47.42                 16.74  \n",
       "1                           12.06                 69.25  \n",
       "2                           47.19                 67.38  \n",
       "3                           31.27                 76.51  \n",
       "4                           30.68                 43.41  "
      ]
     },
     "execution_count": 165,
     "metadata": {},
     "output_type": "execute_result"
    }
   ],
   "source": [
    "# import libraries needed to work with it\n",
    "import pandas as pd\n",
    "import numpy as np\n",
    "import matplotlib.pyplot as plt\n",
    "import seaborn as sns\n",
    "\n",
    "# Load dataset\n",
    "file_path = './data/Global_Music_Streaming_Listener_Preferences.csv'\n",
    "df = pd.read_csv(file_path)\n",
    "\n",
    "#check the overview of this dataset\n",
    "df.head()"
   ]
  },
  {
   "cell_type": "code",
   "execution_count": 166,
   "id": "e4b34f0f",
   "metadata": {
    "scrolled": true
   },
   "outputs": [
    {
     "name": "stdout",
     "output_type": "stream",
     "text": [
      "<class 'pandas.core.frame.DataFrame'>\n",
      "RangeIndex: 5000 entries, 0 to 4999\n",
      "Data columns (total 12 columns):\n",
      " #   Column                                    Non-Null Count  Dtype  \n",
      "---  ------                                    --------------  -----  \n",
      " 0   User_ID                                   5000 non-null   object \n",
      " 1   Age                                       5000 non-null   int64  \n",
      " 2   Country                                   5000 non-null   object \n",
      " 3   Streaming Platform                        5000 non-null   object \n",
      " 4   Top Genre                                 5000 non-null   object \n",
      " 5   Minutes Streamed Per Day                  5000 non-null   int64  \n",
      " 6   Number of Songs Liked                     5000 non-null   int64  \n",
      " 7   Most Played Artist                        5000 non-null   object \n",
      " 8   Subscription Type                         5000 non-null   object \n",
      " 9   Listening Time (Morning/Afternoon/Night)  5000 non-null   object \n",
      " 10  Discover Weekly Engagement (%)            5000 non-null   float64\n",
      " 11  Repeat Song Rate (%)                      5000 non-null   float64\n",
      "dtypes: float64(2), int64(3), object(7)\n",
      "memory usage: 468.9+ KB\n"
     ]
    },
    {
     "data": {
      "text/html": [
       "<div>\n",
       "<style scoped>\n",
       "    .dataframe tbody tr th:only-of-type {\n",
       "        vertical-align: middle;\n",
       "    }\n",
       "\n",
       "    .dataframe tbody tr th {\n",
       "        vertical-align: top;\n",
       "    }\n",
       "\n",
       "    .dataframe thead th {\n",
       "        text-align: right;\n",
       "    }\n",
       "</style>\n",
       "<table border=\"1\" class=\"dataframe\">\n",
       "  <thead>\n",
       "    <tr style=\"text-align: right;\">\n",
       "      <th></th>\n",
       "      <th>Age</th>\n",
       "      <th>Minutes Streamed Per Day</th>\n",
       "      <th>Number of Songs Liked</th>\n",
       "      <th>Discover Weekly Engagement (%)</th>\n",
       "      <th>Repeat Song Rate (%)</th>\n",
       "    </tr>\n",
       "  </thead>\n",
       "  <tbody>\n",
       "    <tr>\n",
       "      <th>count</th>\n",
       "      <td>5000.000000</td>\n",
       "      <td>5000.000000</td>\n",
       "      <td>5000.00000</td>\n",
       "      <td>5000.000000</td>\n",
       "      <td>5000.000000</td>\n",
       "    </tr>\n",
       "    <tr>\n",
       "      <th>mean</th>\n",
       "      <td>36.664000</td>\n",
       "      <td>309.237200</td>\n",
       "      <td>253.51720</td>\n",
       "      <td>50.296464</td>\n",
       "      <td>42.391060</td>\n",
       "    </tr>\n",
       "    <tr>\n",
       "      <th>std</th>\n",
       "      <td>13.763844</td>\n",
       "      <td>172.029822</td>\n",
       "      <td>146.36928</td>\n",
       "      <td>23.171936</td>\n",
       "      <td>21.444121</td>\n",
       "    </tr>\n",
       "    <tr>\n",
       "      <th>min</th>\n",
       "      <td>13.000000</td>\n",
       "      <td>10.000000</td>\n",
       "      <td>1.00000</td>\n",
       "      <td>10.020000</td>\n",
       "      <td>5.000000</td>\n",
       "    </tr>\n",
       "    <tr>\n",
       "      <th>25%</th>\n",
       "      <td>25.000000</td>\n",
       "      <td>161.000000</td>\n",
       "      <td>126.00000</td>\n",
       "      <td>30.147500</td>\n",
       "      <td>24.195000</td>\n",
       "    </tr>\n",
       "    <tr>\n",
       "      <th>50%</th>\n",
       "      <td>37.000000</td>\n",
       "      <td>316.000000</td>\n",
       "      <td>254.00000</td>\n",
       "      <td>50.420000</td>\n",
       "      <td>41.960000</td>\n",
       "    </tr>\n",
       "    <tr>\n",
       "      <th>75%</th>\n",
       "      <td>49.000000</td>\n",
       "      <td>457.250000</td>\n",
       "      <td>382.00000</td>\n",
       "      <td>70.337500</td>\n",
       "      <td>60.740000</td>\n",
       "    </tr>\n",
       "    <tr>\n",
       "      <th>max</th>\n",
       "      <td>60.000000</td>\n",
       "      <td>600.000000</td>\n",
       "      <td>500.00000</td>\n",
       "      <td>89.990000</td>\n",
       "      <td>79.990000</td>\n",
       "    </tr>\n",
       "  </tbody>\n",
       "</table>\n",
       "</div>"
      ],
      "text/plain": [
       "               Age  Minutes Streamed Per Day  Number of Songs Liked  \\\n",
       "count  5000.000000               5000.000000             5000.00000   \n",
       "mean     36.664000                309.237200              253.51720   \n",
       "std      13.763844                172.029822              146.36928   \n",
       "min      13.000000                 10.000000                1.00000   \n",
       "25%      25.000000                161.000000              126.00000   \n",
       "50%      37.000000                316.000000              254.00000   \n",
       "75%      49.000000                457.250000              382.00000   \n",
       "max      60.000000                600.000000              500.00000   \n",
       "\n",
       "       Discover Weekly Engagement (%)  Repeat Song Rate (%)  \n",
       "count                     5000.000000           5000.000000  \n",
       "mean                        50.296464             42.391060  \n",
       "std                         23.171936             21.444121  \n",
       "min                         10.020000              5.000000  \n",
       "25%                         30.147500             24.195000  \n",
       "50%                         50.420000             41.960000  \n",
       "75%                         70.337500             60.740000  \n",
       "max                         89.990000             79.990000  "
      ]
     },
     "execution_count": 166,
     "metadata": {},
     "output_type": "execute_result"
    }
   ],
   "source": [
    "# check the structure and datatype of the dataset\n",
    "df.info()\n",
    "\n",
    "df.describe()"
   ]
  },
  {
   "cell_type": "code",
   "execution_count": 167,
   "id": "37fa6646",
   "metadata": {},
   "outputs": [
    {
     "data": {
      "text/plain": [
       "User_ID                                     0\n",
       "Age                                         0\n",
       "Country                                     0\n",
       "Streaming Platform                          0\n",
       "Top Genre                                   0\n",
       "Minutes Streamed Per Day                    0\n",
       "Number of Songs Liked                       0\n",
       "Most Played Artist                          0\n",
       "Subscription Type                           0\n",
       "Listening Time (Morning/Afternoon/Night)    0\n",
       "Discover Weekly Engagement (%)              0\n",
       "Repeat Song Rate (%)                        0\n",
       "dtype: int64"
      ]
     },
     "execution_count": 167,
     "metadata": {},
     "output_type": "execute_result"
    }
   ],
   "source": [
    "# Check for missing values\n",
    "df.isnull().sum()"
   ]
  },
  {
   "cell_type": "code",
   "execution_count": 168,
   "id": "21b34134",
   "metadata": {},
   "outputs": [],
   "source": [
    "# Drop rows with missing values\n",
    "df_cleaned = df.dropna()\n"
   ]
  },
  {
   "cell_type": "code",
   "execution_count": 169,
   "id": "e292ba8c",
   "metadata": {
    "scrolled": true
   },
   "outputs": [
    {
     "data": {
      "text/plain": [
       "User_ID                                     0\n",
       "Age                                         0\n",
       "Country                                     0\n",
       "Streaming Platform                          0\n",
       "Top Genre                                   0\n",
       "Minutes Streamed Per Day                    0\n",
       "Number of Songs Liked                       0\n",
       "Most Played Artist                          0\n",
       "Subscription Type                           0\n",
       "Listening Time (Morning/Afternoon/Night)    0\n",
       "Discover Weekly Engagement (%)              0\n",
       "Repeat Song Rate (%)                        0\n",
       "dtype: int64"
      ]
     },
     "execution_count": 169,
     "metadata": {},
     "output_type": "execute_result"
    }
   ],
   "source": [
    "# Confirm cleanup\n",
    "df_cleaned.isnull().sum()"
   ]
  },
  {
   "cell_type": "code",
   "execution_count": 170,
   "id": "33f879e1",
   "metadata": {},
   "outputs": [],
   "source": [
    "# Rename columns (if they are long or inconsistent)\n",
    "\n",
    "df_cleaned.columns = [col.strip().replace(' ', '_').lower() for col in df_cleaned.columns]\n",
    "df_cleaned.head()\n",
    "df_cleaned.to_csv('data/cleaned_global_music_streaming_preferences.csv', index=False)"
   ]
  },
  {
   "cell_type": "code",
   "execution_count": 171,
   "id": "3abe9292",
   "metadata": {},
   "outputs": [
    {
     "data": {
      "image/png": "[encoded data removed]",
      "text/plain": [
       "<Figure size 432x288 with 1 Axes>"
      ]
     },
     "metadata": {
      "needs_background": "light"
     },
     "output_type": "display_data"
    }
   ],
   "source": [
    " # Top Countries by Listener Count\n",
    "\n",
    "df_cleaned['country'].value_counts().head(10).plot(kind='bar')\n",
    "plt.title('Top 10 Countries by Listener Count')\n",
    "plt.ylabel('Number of Listeners')\n",
    "plt.xlabel('country')\n",
    "plt.xticks(rotation=45)\n",
    "plt.show()"
   ]
  },
  {
   "cell_type": "code",
   "execution_count": 172,
   "id": "20b25d6b",
   "metadata": {
    "scrolled": false
   },
   "outputs": [
    {
     "data": {
      "image/png": "[encoded data removed]",
      "text/plain": [
       "<Figure size 432x288 with 1 Axes>"
      ]
     },
     "metadata": {},
     "output_type": "display_data"
    }
   ],
   "source": [
    "# Distribution of Streaming Platforms\n",
    "\n",
    "df_cleaned['streaming_platform'].value_counts().plot(kind='pie', autopct='%1.1f%%', startangle=90)\n",
    "plt.title('Distribution of Streaming Platforms')\n",
    "plt.ylabel('')\n",
    "plt.show()\n"
   ]
  },
  {
   "cell_type": "code",
   "execution_count": 173,
   "id": "40072a28",
   "metadata": {},
   "outputs": [
    {
     "name": "stdout",
     "output_type": "stream",
     "text": [
      "The most played artist overall is Bad Bunny with 528 users having them as their top artist.\n"
     ]
    }
   ],
   "source": [
    "# Find the most played artist overall\n",
    "most_played_artist = df_cleaned['most_played_artist'].value_counts().idxmax()\n",
    "most_played_artist_count = df_cleaned['most_played_artist'].value_counts().max()\n",
    "\n",
    "print(f\"The most played artist overall is {most_played_artist} with {most_played_artist_count} users having them as their top artist.\")\n"
   ]
  },
  {
   "cell_type": "code",
   "execution_count": 174,
   "id": "c51f7aaf",
   "metadata": {},
   "outputs": [
    {
     "data": {
      "image/png": "[encoded data removed]",
      "text/plain": [
       "<Figure size 432x288 with 1 Axes>"
      ]
     },
     "metadata": {
      "needs_background": "light"
     },
     "output_type": "display_data"
    }
   ],
   "source": [
    "# Visualize this result using Matplotlib\n",
    "\n",
    "top_artists = df_cleaned['most_played_artist'].value_counts().head(10)\n",
    "top_artists.plot(kind='bar')\n",
    "plt.title('Top 10 Most Played Artists Across Users')\n",
    "plt.xlabel('Artist')\n",
    "plt.ylabel('Number of Users')\n",
    "plt.xticks(rotation=45)\n",
    "plt.show()"
   ]
  },
  {
   "cell_type": "code",
   "execution_count": 175,
   "id": "1c07a3d6",
   "metadata": {},
   "outputs": [
    {
     "name": "stdout",
     "output_type": "stream",
     "text": [
      "streaming_platform\n",
      "Tidal           267659\n",
      "YouTube         263144\n",
      "Amazon Music    262685\n",
      "Deezer          259301\n",
      "Spotify         247127\n",
      "Apple Music     246270\n",
      "Name: minutes_streamed_per_day, dtype: int64\n"
     ]
    }
   ],
   "source": [
    "# Calculate total minutes streamed per platform\n",
    "platform_minutes = df_cleaned.groupby('streaming_platform')['minutes_streamed_per_day'].sum().sort_values(ascending=False)\n",
    "\n",
    "# Display the results\n",
    "print(platform_minutes)"
   ]
  },
  {
   "cell_type": "code",
   "execution_count": 176,
   "id": "93a68cfa",
   "metadata": {},
   "outputs": [
    {
     "data": {
      "image/png": "[encoded data removed]",
      "text/plain": [
       "<Figure size 432x288 with 1 Axes>"
      ]
     },
     "metadata": {
      "needs_background": "light"
     },
     "output_type": "display_data"
    }
   ],
   "source": [
    "import matplotlib.pyplot as plt\n",
    "\n",
    "platform_minutes.plot(kind='bar')\n",
    "plt.title('Total Minutes Streamed Per Day for Each Platform')\n",
    "plt.ylabel('Total Minutes per Day')\n",
    "plt.xlabel('Streaming Platform')\n",
    "plt.xticks(rotation=45)\n",
    "plt.show()"
   ]
  },
  {
   "cell_type": "code",
   "execution_count": 177,
   "id": "217683bd",
   "metadata": {},
   "outputs": [],
   "source": [
    "# Add a new column for repetition rate (approximate play count per liked song per day)\n",
    "df_cleaned['repeat_song_rate_(%)'] = df_cleaned['minutes_streamed_per_day'] / df_cleaned['number_of_songs_liked']"
   ]
  },
  {
   "cell_type": "code",
   "execution_count": 178,
   "id": "861cccfb",
   "metadata": {},
   "outputs": [
    {
     "name": "stdout",
     "output_type": "stream",
     "text": [
      "The highest repetition rate is 522.00 minutes per liked song per day.\n"
     ]
    },
    {
     "data": {
      "text/html": [
       "<div>\n",
       "<style scoped>\n",
       "    .dataframe tbody tr th:only-of-type {\n",
       "        vertical-align: middle;\n",
       "    }\n",
       "\n",
       "    .dataframe tbody tr th {\n",
       "        vertical-align: top;\n",
       "    }\n",
       "\n",
       "    .dataframe thead th {\n",
       "        text-align: right;\n",
       "    }\n",
       "</style>\n",
       "<table border=\"1\" class=\"dataframe\">\n",
       "  <thead>\n",
       "    <tr style=\"text-align: right;\">\n",
       "      <th></th>\n",
       "      <th>user_id</th>\n",
       "      <th>age</th>\n",
       "      <th>country</th>\n",
       "      <th>streaming_platform</th>\n",
       "      <th>top_genre</th>\n",
       "      <th>minutes_streamed_per_day</th>\n",
       "      <th>number_of_songs_liked</th>\n",
       "      <th>most_played_artist</th>\n",
       "      <th>subscription_type</th>\n",
       "      <th>listening_time_(morning/afternoon/night)</th>\n",
       "      <th>discover_weekly_engagement_(%)</th>\n",
       "      <th>repeat_song_rate_(%)</th>\n",
       "    </tr>\n",
       "  </thead>\n",
       "  <tbody>\n",
       "    <tr>\n",
       "      <th>4342</th>\n",
       "      <td>U5342</td>\n",
       "      <td>51</td>\n",
       "      <td>UK</td>\n",
       "      <td>Tidal</td>\n",
       "      <td>Hip-Hop</td>\n",
       "      <td>522</td>\n",
       "      <td>1</td>\n",
       "      <td>Ed Sheeran</td>\n",
       "      <td>Premium</td>\n",
       "      <td>Afternoon</td>\n",
       "      <td>55.14</td>\n",
       "      <td>522.0</td>\n",
       "    </tr>\n",
       "  </tbody>\n",
       "</table>\n",
       "</div>"
      ],
      "text/plain": [
       "     user_id  age country streaming_platform top_genre  \\\n",
       "4342   U5342   51      UK              Tidal   Hip-Hop   \n",
       "\n",
       "      minutes_streamed_per_day  number_of_songs_liked most_played_artist  \\\n",
       "4342                       522                      1         Ed Sheeran   \n",
       "\n",
       "     subscription_type listening_time_(morning/afternoon/night)  \\\n",
       "4342           Premium                                Afternoon   \n",
       "\n",
       "      discover_weekly_engagement_(%)  repeat_song_rate_(%)  \n",
       "4342                           55.14                 522.0  "
      ]
     },
     "execution_count": 178,
     "metadata": {},
     "output_type": "execute_result"
    }
   ],
   "source": [
    "# Find the highest repetition rate\n",
    "max_repeat_rate = df_cleaned['repeat_song_rate_(%)'].max()\n",
    "\n",
    "# Find user(s) with this highest repetition rate\n",
    "most_repeated = df_cleaned[df_cleaned['repeat_song_rate_(%)'] == max_repeat_rate]\n",
    "\n",
    "print(f\"The highest repetition rate is {max_repeat_rate:.2f} minutes per liked song per day.\")\n",
    "most_repeated"
   ]
  },
  {
   "cell_type": "code",
   "execution_count": 179,
   "id": "107a8756",
   "metadata": {},
   "outputs": [
    {
     "data": {
      "image/png": "[encoded data removed]",
      "text/plain": [
       "<Figure size 432x288 with 1 Axes>"
      ]
     },
     "metadata": {
      "needs_background": "light"
     },
     "output_type": "display_data"
    }
   ],
   "source": [
    "import matplotlib.pyplot as plt\n",
    "\n",
    "plt.hist(df_cleaned['repeat_song_rate_(%)'], bins=30)\n",
    "plt.title('Distribution of Song Repeat Rate Across Users')\n",
    "plt.xlabel('Minutes per liked song per day')\n",
    "plt.ylabel('Number of Users')\n",
    "plt.show()"
   ]
  },
  {
   "cell_type": "code",
   "execution_count": 180,
   "id": "7ec4e4e4",
   "metadata": {},
   "outputs": [
    {
     "name": "stdout",
     "output_type": "stream",
     "text": [
      "streaming_platform\n",
      "Tidal           4.796654\n",
      "Spotify         4.684093\n",
      "Deezer          4.679480\n",
      "Apple Music     4.547501\n",
      "Amazon Music    3.370040\n",
      "YouTube         3.298002\n",
      "Name: repeat_song_rate_(%), dtype: float64\n"
     ]
    }
   ],
   "source": [
    "# Average repetition rate % per platform \n",
    "repeat_rate_by_platform = df_cleaned.groupby('streaming_platform')['repeat_song_rate_(%)'].mean().sort_values(ascending=False)\n",
    "print(repeat_rate_by_platform)"
   ]
  },
  {
   "cell_type": "code",
   "execution_count": null,
   "id": "ad18dd4b",
   "metadata": {},
   "outputs": [],
   "source": []
  },
  {
   "cell_type": "code",
   "execution_count": null,
   "id": "da59b1cc",
   "metadata": {},
   "outputs": [],
   "source": []
  }
 ],
 "metadata": {
  "kernelspec": {
   "display_name": "Python 3 (ipykernel)",
   "language": "python",
   "name": "python3"
  },
  "language_info": {
   "codemirror_mode": {
    "name": "ipython",
    "version": 3
   },
   "file_extension": ".py",
   "mimetype": "text/x-python",
   "name": "python",
   "nbconvert_exporter": "python",
   "pygments_lexer": "ipython3",
   "version": "3.9.7"
  }
 },
 "nbformat": 4,
 "nbformat_minor": 5
}
